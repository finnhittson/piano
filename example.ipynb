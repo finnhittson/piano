{
 "cells": [
  {
   "cell_type": "code",
   "execution_count": 1,
   "metadata": {},
   "outputs": [],
   "source": [
    "%load_ext autoreload\n",
    "%autoreload 2\n",
    "\n",
    "import tensorflow as tf\n",
    "import dataloader\n",
    "import omr\n",
    "import os\n",
    "import matplotlib.pyplot as plt\n",
    "import numpy as np\n",
    "\n",
    "os.environ['TF_CPP_MIN_LOG_LEVEL'] = '2'"
   ]
  },
  {
   "cell_type": "code",
   "execution_count": 11,
   "metadata": {},
   "outputs": [],
   "source": [
    "#PATH = \"C:\\\\Users\\\\hitts\\\\Documents\\\\GitHub\\\\piano\"\n",
    "PATH = \"C:\\\\Users\\\\hitts\\\\Desktop\"\n",
    "BATCH_SIZE = 2\n",
    "VAL_SIZE = 0.2"
   ]
  },
  {
   "cell_type": "code",
   "execution_count": 15,
   "metadata": {},
   "outputs": [
    {
     "name": "stdout",
     "output_type": "stream",
     "text": [
      "Loaded 14 images.\n",
      "Training dataset created: 10 images, 5 batches of size 2.\n",
      "Validation dataset created: 2 images, 1 batches of size 2.\n"
     ]
    }
   ],
   "source": [
    "dl = dataloader.DataLoader(path=PATH, batch_size=BATCH_SIZE, val_size=VAL_SIZE, shuffle=False, verbose=True)\n",
    "train_ds, val_ds = dl.get_ds()"
   ]
  },
  {
   "cell_type": "code",
   "execution_count": 16,
   "metadata": {},
   "outputs": [],
   "source": [
    "images, labels = next(iter(train_ds))"
   ]
  },
  {
   "cell_type": "code",
   "execution_count": 17,
   "metadata": {},
   "outputs": [
    {
     "name": "stdout",
     "output_type": "stream",
     "text": [
      "(2, 226, 1320, 1) (2, 65)\n"
     ]
    }
   ],
   "source": [
    "print(images.shape, labels.shape)"
   ]
  },
  {
   "cell_type": "code",
   "execution_count": 18,
   "metadata": {},
   "outputs": [],
   "source": [
    "batch_idx = 0\n",
    "image = images[batch_idx, :, :, :]\n",
    "label = labels[batch_idx, :]"
   ]
  },
  {
   "cell_type": "code",
   "execution_count": 19,
   "metadata": {},
   "outputs": [
    {
     "data": {
      "text/plain": [
       "<matplotlib.image.AxesImage at 0x2cf463278d0>"
      ]
     },
     "execution_count": 19,
     "metadata": {},
     "output_type": "execute_result"
    },
    {
     "data": {
      "image/png": "[encoded data removed]",
      "text/plain": [
       "<Figure size 640x480 with 1 Axes>"
      ]
     },
     "metadata": {},
     "output_type": "display_data"
    }
   ],
   "source": [
    "plt.imshow(image, cmap='gray', vmin=0, vmax=255)"
   ]
  },
  {
   "cell_type": "code",
   "execution_count": 20,
   "metadata": {},
   "outputs": [
    {
     "name": "stdout",
     "output_type": "stream",
     "text": [
      "['clef-C1', 'keySignature-EbM', 'timeSignature-C', 'multirest-4', 'barline', 'rest-half', 'note-G4_eighth', 'note-G4_sixteenth', 'note-G4_sixteenth', 'note-G4_eighth', 'note-A4_eighth', 'barline', 'note-B4_eighth', 'note-Bb4_eighth', 'rest-eighth', 'note-Bb4_eighth', 'note-Bb4_eighth', 'note-Bb4_eighth', 'note-A4_eighth', 'note-Bb4_eighth', 'barline', 'note-G4_quarter']\n"
     ]
    }
   ],
   "source": [
    "alphabetic_label = dl.decode_numerical_label(label.numpy())\n",
    "print(alphabetic_label)"
   ]
  },
  {
   "cell_type": "code",
   "execution_count": 21,
   "metadata": {},
   "outputs": [
    {
     "name": "stdout",
     "output_type": "stream",
     "text": [
      "Model compiled.\n",
      "Model: \"Optical Music Recognition Model\"\n",
      "_________________________________________________________________\n",
      " Layer (type)                Output Shape              Param #   \n",
      "=================================================================\n",
      " input_1 (InputLayer)        [(None, 226, 1320, 1)]    0         \n",
      "                                                                 \n",
      " conv2d (Conv2D)             (None, 226, 1320, 32)     320       \n",
      "                                                                 \n",
      " max_pooling2d (MaxPooling2  (None, 226, 1320, 32)     0         \n",
      " D)                                                              \n",
      "                                                                 \n",
      " conv2d_1 (Conv2D)           (None, 226, 1320, 64)     18496     \n",
      "                                                                 \n",
      " max_pooling2d_1 (MaxPoolin  (None, 226, 1320, 64)     0         \n",
      " g2D)                                                            \n",
      "                                                                 \n",
      " conv2d_2 (Conv2D)           (None, 226, 1320, 128)    73856     \n",
      "                                                                 \n",
      " max_pooling2d_2 (MaxPoolin  (None, 226, 1320, 128)    0         \n",
      " g2D)                                                            \n",
      "                                                                 \n",
      " conv2d_3 (Conv2D)           (None, 226, 1320, 256)    295168    \n",
      "                                                                 \n",
      " max_pooling2d_3 (MaxPoolin  (None, 226, 1320, 256)    0         \n",
      " g2D)                                                            \n",
      "                                                                 \n",
      " time_distributed (TimeDist  (None, 226, 1320, 256)    525312    \n",
      " ributed)                                                        \n",
      "                                                                 \n",
      " time_distributed_1 (TimeDi  (None, 226, 1320, 256)    525312    \n",
      " stributed)                                                      \n",
      "                                                                 \n",
      " time_distributed_2 (TimeDi  (None, 226, 1320, 1518)   390126    \n",
      " stributed)                                                      \n",
      "                                                                 \n",
      " softmax (Softmax)           (None, 226, 1320, 1518)   0         \n",
      "                                                                 \n",
      "=================================================================\n",
      "Total params: 1828590 (6.98 MB)\n",
      "Trainable params: 1828590 (6.98 MB)\n",
      "Non-trainable params: 0 (0.00 Byte)\n",
      "_________________________________________________________________\n"
     ]
    }
   ],
   "source": [
    "model = omr.get_model(len(dl.get_alphabet()))\n",
    "model.summary()"
   ]
  }
 ],
 "metadata": {
  "kernelspec": {
   "display_name": "Python 3",
   "language": "python",
   "name": "python3"
  },
  "language_info": {
   "codemirror_mode": {
    "name": "ipython",
    "version": 3
   },
   "file_extension": ".py",
   "mimetype": "text/x-python",
   "name": "python",
   "nbconvert_exporter": "python",
   "pygments_lexer": "ipython3",
   "version": "3.11.1"
  }
 },
 "nbformat": 4,
 "nbformat_minor": 2
}
